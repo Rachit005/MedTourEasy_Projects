{
 "cells": [
  {
   "cell_type": "markdown",
   "metadata": {
    "dc": {
     "key": "4"
    },
    "deletable": false,
    "editable": false,
    "run_control": {
     "frozen": true
    },
    "tags": [
     "context"
    ]
   },
   "source": [
    "## 1. Obtain and review raw data\n",
    "<p>One day, my old running friend and I were chatting about our running styles, training habits, and achievements, when I suddenly realized that I could take an in-depth analytical look at my training. I have been using a popular GPS fitness tracker called <a href=\"https://runkeeper.com/\">Runkeeper</a> for years and decided it was time to analyze my running data to see how I was doing.</p>\n",
    "<p>Since 2012, I've been using the Runkeeper app, and it's great. One key feature: its excellent data export. Anyone who has a smartphone can download the app and analyze their data like we will in this notebook.</p>\n",
    "<p><img src=\"https://assets.datacamp.com/production/project_727/img/runner_in_blue.jpg\" alt=\"Runner in blue\" title=\"Explore world, explore your data!\"></p>\n",
    "<p>After logging your run, the first step is to export the data from Runkeeper (which I've done already). Then import the data and start exploring to find potential problems. After that, create data cleaning strategies to fix the issues. Finally, analyze and visualize the clean time-series data.</p>\n",
    "<p>I exported seven years worth of my training data, from 2012 through 2018. The data is a CSV file where each row is a single training activity. Let's load and inspect it.</p>"
   ]
  },
  {
   "cell_type": "code",
   "execution_count": 52,
   "metadata": {
    "dc": {
     "key": "4"
    },
    "tags": [
     "sample_code"
    ]
   },
   "outputs": [
    {
     "data": {
      "text/html": [
       "<div>\n",
       "<style scoped>\n",
       "    .dataframe tbody tr th:only-of-type {\n",
       "        vertical-align: middle;\n",
       "    }\n",
       "\n",
       "    .dataframe tbody tr th {\n",
       "        vertical-align: top;\n",
       "    }\n",
       "\n",
       "    .dataframe thead th {\n",
       "        text-align: right;\n",
       "    }\n",
       "</style>\n",
       "<table border=\"1\" class=\"dataframe\">\n",
       "  <thead>\n",
       "    <tr style=\"text-align: right;\">\n",
       "      <th></th>\n",
       "      <th>Activity Id</th>\n",
       "      <th>Type</th>\n",
       "      <th>Route Name</th>\n",
       "      <th>Distance (km)</th>\n",
       "      <th>Duration</th>\n",
       "      <th>Average Pace</th>\n",
       "      <th>Average Speed (km/h)</th>\n",
       "      <th>Calories Burned</th>\n",
       "      <th>Climb (m)</th>\n",
       "      <th>Average Heart Rate (bpm)</th>\n",
       "      <th>Friend's Tagged</th>\n",
       "      <th>Notes</th>\n",
       "      <th>GPX File</th>\n",
       "    </tr>\n",
       "    <tr>\n",
       "      <th>Date</th>\n",
       "      <th></th>\n",
       "      <th></th>\n",
       "      <th></th>\n",
       "      <th></th>\n",
       "      <th></th>\n",
       "      <th></th>\n",
       "      <th></th>\n",
       "      <th></th>\n",
       "      <th></th>\n",
       "      <th></th>\n",
       "      <th></th>\n",
       "      <th></th>\n",
       "      <th></th>\n",
       "    </tr>\n",
       "  </thead>\n",
       "  <tbody>\n",
       "    <tr>\n",
       "      <th>2016-02-15 18:37:04</th>\n",
       "      <td>c41ee42c-c911-4367-8594-e86cffbec427</td>\n",
       "      <td>Running</td>\n",
       "      <td>NaN</td>\n",
       "      <td>10.02</td>\n",
       "      <td>1:00:08</td>\n",
       "      <td>6:00</td>\n",
       "      <td>10.00</td>\n",
       "      <td>703.0</td>\n",
       "      <td>92</td>\n",
       "      <td>157.0</td>\n",
       "      <td>NaN</td>\n",
       "      <td>TomTom MySports Watch</td>\n",
       "      <td>2016-02-15-183704.gpx</td>\n",
       "    </tr>\n",
       "    <tr>\n",
       "      <th>2016-08-17 17:17:09</th>\n",
       "      <td>af644132-ea3f-4770-a8d3-703c17d6c858</td>\n",
       "      <td>Cycling</td>\n",
       "      <td>NaN</td>\n",
       "      <td>21.82</td>\n",
       "      <td>1:22:34</td>\n",
       "      <td>3:47</td>\n",
       "      <td>15.86</td>\n",
       "      <td>533.0</td>\n",
       "      <td>316</td>\n",
       "      <td>122.0</td>\n",
       "      <td>NaN</td>\n",
       "      <td>TomTom MySports Watch</td>\n",
       "      <td>2016-08-17-171709.gpx</td>\n",
       "    </tr>\n",
       "    <tr>\n",
       "      <th>2018-04-21 18:18:13</th>\n",
       "      <td>e870e465-ae64-405f-b05f-f3d7737b5347</td>\n",
       "      <td>Running</td>\n",
       "      <td>NaN</td>\n",
       "      <td>12.70</td>\n",
       "      <td>1:07:12</td>\n",
       "      <td>5:18</td>\n",
       "      <td>11.34</td>\n",
       "      <td>893.0</td>\n",
       "      <td>171</td>\n",
       "      <td>148.0</td>\n",
       "      <td>NaN</td>\n",
       "      <td>TomTom MySports Watch</td>\n",
       "      <td>2018-04-21-181813.gpx</td>\n",
       "    </tr>\n",
       "  </tbody>\n",
       "</table>\n",
       "</div>"
      ],
      "text/plain": [
       "                                              Activity Id     Type Route Name  \\\n",
       "Date                                                                            \n",
       "2016-02-15 18:37:04  c41ee42c-c911-4367-8594-e86cffbec427  Running        NaN   \n",
       "2016-08-17 17:17:09  af644132-ea3f-4770-a8d3-703c17d6c858  Cycling        NaN   \n",
       "2018-04-21 18:18:13  e870e465-ae64-405f-b05f-f3d7737b5347  Running        NaN   \n",
       "\n",
       "                     Distance (km) Duration Average Pace  \\\n",
       "Date                                                       \n",
       "2016-02-15 18:37:04          10.02  1:00:08         6:00   \n",
       "2016-08-17 17:17:09          21.82  1:22:34         3:47   \n",
       "2018-04-21 18:18:13          12.70  1:07:12         5:18   \n",
       "\n",
       "                     Average Speed (km/h)  Calories Burned  Climb (m)  \\\n",
       "Date                                                                    \n",
       "2016-02-15 18:37:04                 10.00            703.0         92   \n",
       "2016-08-17 17:17:09                 15.86            533.0        316   \n",
       "2018-04-21 18:18:13                 11.34            893.0        171   \n",
       "\n",
       "                     Average Heart Rate (bpm)  Friend's Tagged  \\\n",
       "Date                                                             \n",
       "2016-02-15 18:37:04                     157.0              NaN   \n",
       "2016-08-17 17:17:09                     122.0              NaN   \n",
       "2018-04-21 18:18:13                     148.0              NaN   \n",
       "\n",
       "                                     Notes               GPX File  \n",
       "Date                                                               \n",
       "2016-02-15 18:37:04  TomTom MySports Watch  2016-02-15-183704.gpx  \n",
       "2016-08-17 17:17:09  TomTom MySports Watch  2016-08-17-171709.gpx  \n",
       "2018-04-21 18:18:13  TomTom MySports Watch  2018-04-21-181813.gpx  "
      ]
     },
     "metadata": {},
     "output_type": "display_data"
    },
    {
     "name": "stdout",
     "output_type": "stream",
     "text": [
      "<class 'pandas.core.frame.DataFrame'>\n",
      "DatetimeIndex: 508 entries, 2018-11-11 14:05:12 to 2012-08-22 18:53:54\n",
      "Data columns (total 13 columns):\n",
      "Activity Id                 508 non-null object\n",
      "Type                        508 non-null object\n",
      "Route Name                  1 non-null object\n",
      "Distance (km)               508 non-null float64\n",
      "Duration                    508 non-null object\n",
      "Average Pace                508 non-null object\n",
      "Average Speed (km/h)        508 non-null float64\n",
      "Calories Burned             508 non-null float64\n",
      "Climb (m)                   508 non-null int64\n",
      "Average Heart Rate (bpm)    294 non-null float64\n",
      "Friend's Tagged             0 non-null float64\n",
      "Notes                       231 non-null object\n",
      "GPX File                    504 non-null object\n",
      "dtypes: float64(5), int64(1), object(7)\n",
      "memory usage: 55.6+ KB\n",
      "None\n"
     ]
    }
   ],
   "source": [
    "# Import pandas\n",
    "# ... YOUR CODE FOR TASK 1 ...\n",
    "import pandas as pd\n",
    "\n",
    "# Define file containing dataset\n",
    "runkeeper_file = 'datasets/cardioActivities.csv'\n",
    "\n",
    "# Create DataFrame with parse_dates and index_col parameters \n",
    "df_activities = pd.read_csv(runkeeper_file, index_col = ['Date'], parse_dates = ['Date'])\n",
    "\n",
    "# First look at exported data: select sample of 3 random rows \n",
    "display(df_activities.sample(n=3))\n",
    "\n",
    "# Print DataFrame summary\n",
    "print(df_activities.info())\n",
    "# ... YOUR CODE FOR TASK 1 ..."
   ]
  },
  {
   "cell_type": "markdown",
   "metadata": {
    "dc": {
     "key": "12"
    },
    "deletable": false,
    "editable": false,
    "run_control": {
     "frozen": true
    },
    "tags": [
     "context"
    ]
   },
   "source": [
    "## 2. Data preprocessing\n",
    "<p>Lucky for us, the column names Runkeeper provides are informative, and we don't need to rename any columns.</p>\n",
    "<p>But, we do notice missing values using the <code>info()</code> method. What are the reasons for these missing values? It depends. Some heart rate information is missing because I didn't always use a cardio sensor. In the case of the <code>Notes</code> column, it is an optional field that I sometimes left blank. Also, I only used the <code>Route Name</code> column once, and never used the <code>Friend's Tagged</code> column.</p>\n",
    "<p>We'll fill in missing values in the heart rate column to avoid misleading results later, but right now, our first data preprocessing steps will be to:</p>\n",
    "<ul>\n",
    "<li>Remove columns not useful for our analysis.</li>\n",
    "<li>Replace the \"Other\" activity type to \"Unicycling\" because that was always the \"Other\" activity.</li>\n",
    "<li>Count missing values.</li>\n",
    "</ul>"
   ]
  },
  {
   "cell_type": "code",
   "execution_count": 54,
   "metadata": {
    "dc": {
     "key": "12"
    },
    "tags": [
     "sample_code"
    ]
   },
   "outputs": [
    {
     "data": {
      "text/plain": [
       "Running    459\n",
       "Cycling     29\n",
       "Walking     18\n",
       "Other        2\n",
       "Name: Type, dtype: int64"
      ]
     },
     "metadata": {},
     "output_type": "display_data"
    },
    {
     "data": {
      "text/plain": [
       "Type                          0\n",
       "Distance (km)                 0\n",
       "Duration                      0\n",
       "Average Pace                  0\n",
       "Average Speed (km/h)          0\n",
       "Climb (m)                     0\n",
       "Average Heart Rate (bpm)    214\n",
       "dtype: int64"
      ]
     },
     "execution_count": 54,
     "metadata": {},
     "output_type": "execute_result"
    }
   ],
   "source": [
    "# Define list of columns to be deleted\n",
    "cols_to_drop = ['Friend\\'s Tagged','Route Name','GPX File','Activity Id','Calories Burned', 'Notes']\n",
    "\n",
    "# Delete unnecessary columns\n",
    "# ... YOUR CODE FOR TASK 2 ...\n",
    "df_activities.drop(columns = cols_to_drop, inplace = True)\n",
    "\n",
    "# Count types of training activities\n",
    "display(df_activities['Type'].value_counts())\n",
    "\n",
    "# Rename 'Other' type to 'Unicycling'\n",
    "df_activities['Type'] = df_activities['Type'].str.replace('Other','Unicycling')\n",
    "\n",
    "# Count missing values for each column\n",
    "# ... YOUR CODE FOR TASK 2 ...\n",
    "df_activities.isnull().sum()"
   ]
  },
  {
   "cell_type": "markdown",
   "metadata": {
    "dc": {
     "key": "19"
    },
    "deletable": false,
    "editable": false,
    "run_control": {
     "frozen": true
    },
    "tags": [
     "context"
    ]
   },
   "source": [
    "## 3. Dealing with missing values\n",
    "<p>As we can see from the last output, there are 214 missing entries for my average heart rate.</p>\n",
    "<p>We can't go back in time to get those data, but we can fill in the missing values with an average value. This process is called <em>mean imputation</em>. When imputing the mean to fill in missing data, we need to consider that the average heart rate varies for different activities (e.g., walking vs. running). We'll filter the DataFrames by activity type (<code>Type</code>) and calculate each activity's mean heart rate, then fill in the missing values with those means.</p>"
   ]
  },
  {
   "cell_type": "code",
   "execution_count": 56,
   "metadata": {
    "dc": {
     "key": "19"
    },
    "tags": [
     "sample_code"
    ]
   },
   "outputs": [
    {
     "data": {
      "text/plain": [
       "Type                        0\n",
       "Distance (km)               0\n",
       "Duration                    0\n",
       "Average Pace                0\n",
       "Average Speed (km/h)        0\n",
       "Climb (m)                   0\n",
       "Average Heart Rate (bpm)    0\n",
       "dtype: int64"
      ]
     },
     "execution_count": 56,
     "metadata": {},
     "output_type": "execute_result"
    }
   ],
   "source": [
    "# Calculate sample means for heart rate for each training activity type \n",
    "avg_hr_run = df_activities[df_activities['Type'] == 'Running']['Average Heart Rate (bpm)'].mean()\n",
    "avg_hr_cycle = df_activities[df_activities['Type'] == 'Cycling']['Average Heart Rate (bpm)'].mean()\n",
    "avg_hr_walk = df_activities[df_activities['Type'] == 'Walking']['Average Heart Rate (bpm)'].mean()\n",
    "avg_hr_unicycle = df_activities[df_activities['Type'] == 'Unicycling']['Average Heart Rate (bpm)'].mean()\n",
    "\n",
    "\n",
    "# Split whole DataFrame into several, specific for different activities\n",
    "df_run = df_activities[df_activities['Type'] == 'Running'].copy()\n",
    "df_walk = df_activities[df_activities['Type'] == 'Walking'].copy()\n",
    "df_cycle = df_activities[df_activities['Type'] == 'Cycling'].copy()\n",
    "df_unicycle = df_activities[df_activities['Type'] == 'Unicycling'].copy()\n",
    "\n",
    "\n",
    "# Filling missing values with counted means  \n",
    "df_walk['Average Heart Rate (bpm)'].fillna(110, inplace=True)\n",
    "df_run['Average Heart Rate (bpm)'].fillna(int(avg_hr_run), inplace=True)\n",
    "# ... YOUR CODE FOR TASK 3 ...\n",
    "df_cycle['Average Heart Rate (bpm)'].fillna(int(avg_hr_cycle), inplace=True)\n",
    "df_unicycle['Average Heart Rate (bpm)'].fillna(int(avg_hr_unicycle), inplace=True)\n",
    "\n",
    "\n",
    "# Count missing values for each column in running data\n",
    "# ... YOUR CODE FOR TASK 3 ...\n",
    "df_run.isnull().sum()"
   ]
  },
  {
   "cell_type": "markdown",
   "metadata": {
    "dc": {
     "key": "26"
    },
    "deletable": false,
    "editable": false,
    "run_control": {
     "frozen": true
    },
    "tags": [
     "context"
    ]
   },
   "source": [
    "## 4. Plot running data\n",
    "<p>Now we can create our first plot! As we found earlier, most of the activities in my data were running (459 of them to be exact). There are only 29, 18, and two instances for cycling, walking, and unicycling, respectively. So for now, let's focus on plotting the different running metrics.</p>\n",
    "<p>An excellent first visualization is a figure with four subplots, one for each running metric (each numerical column). Each subplot will have a different y-axis, which is explained in each legend. The x-axis, <code>Date</code>, is shared among all subplots.</p>"
   ]
  },
  {
   "cell_type": "code",
   "execution_count": 58,
   "metadata": {
    "dc": {
     "key": "26"
    },
    "tags": [
     "sample_code"
    ]
   },
   "outputs": [
    {
     "data": {
      "image/png": "[encoded data removed]",
      "text/plain": [
       "<Figure size 864x1152 with 4 Axes>"
      ]
     },
     "metadata": {},
     "output_type": "display_data"
    }
   ],
   "source": [
    "%matplotlib inline\n",
    "\n",
    "# Import matplotlib, set style and ignore warning\n",
    "import matplotlib.pyplot as plt\n",
    "%matplotlib inline\n",
    "import warnings\n",
    "plt.style.use('ggplot')\n",
    "warnings.filterwarnings(\n",
    "    action='ignore', module='matplotlib.figure', category=UserWarning,\n",
    "    message=('This figure includes Axes that are not compatible with tight_layout, so results might be incorrect.')\n",
    ")\n",
    "\n",
    "# Prepare data subsetting period from 2013 till 2018\n",
    "runs_subset_2013_2018 = df_run['2018':'2013']\n",
    "\n",
    "# Create, plot and customize in one step\n",
    "runs_subset_2013_2018.plot(subplots=True,\n",
    "                           sharex=False,\n",
    "                           figsize=(12,16),\n",
    "                           linestyle='none',\n",
    "                           marker='o',\n",
    "                           markersize=3,\n",
    "                          )\n",
    "\n",
    "# Show plot\n",
    "# ... YOUR CODE FOR TASK 4 ...\n",
    "plt.show()"
   ]
  },
  {
   "cell_type": "markdown",
   "metadata": {
    "dc": {
     "key": "33"
    },
    "deletable": false,
    "editable": false,
    "run_control": {
     "frozen": true
    },
    "tags": [
     "context"
    ]
   },
   "source": [
    "## 5. Running statistics\n",
    "<p>No doubt, running helps people stay mentally and physically healthy and productive at any age. And it is great fun! When runners talk to each other about their hobby, we not only discuss our results, but we also discuss different training strategies. </p>\n",
    "<p>You'll know you're with a group of runners if you commonly hear questions like:</p>\n",
    "<ul>\n",
    "<li>What is your average distance?</li>\n",
    "<li>How fast do you run?</li>\n",
    "<li>Do you measure your heart rate?</li>\n",
    "<li>How often do you train?</li>\n",
    "</ul>\n",
    "<p>Let's find the answers to these questions in my data. If you look back at plots in Task 4, you can see the answer to, <em>Do you measure your heart rate?</em> Before 2015: no. To look at the averages, let's only use the data from 2015 through 2018.</p>\n",
    "<p>In pandas, the <code>resample()</code> method is similar to the <code>groupby()</code> method - with <code>resample()</code> you group by a specific time span. We'll use <code>resample()</code> to group the time series data by a sampling period and apply several methods to each sampling period. In our case, we'll resample annually and weekly.</p>"
   ]
  },
  {
   "cell_type": "code",
   "execution_count": 63,
   "metadata": {
    "dc": {
     "key": "33"
    },
    "tags": [
     "sample_code"
    ]
   },
   "outputs": [
    {
     "name": "stdout",
     "output_type": "stream",
     "text": [
      "How my average run looks in last 4 years:\n"
     ]
    },
    {
     "data": {
      "text/html": [
       "<div>\n",
       "<style scoped>\n",
       "    .dataframe tbody tr th:only-of-type {\n",
       "        vertical-align: middle;\n",
       "    }\n",
       "\n",
       "    .dataframe tbody tr th {\n",
       "        vertical-align: top;\n",
       "    }\n",
       "\n",
       "    .dataframe thead th {\n",
       "        text-align: right;\n",
       "    }\n",
       "</style>\n",
       "<table border=\"1\" class=\"dataframe\">\n",
       "  <thead>\n",
       "    <tr style=\"text-align: right;\">\n",
       "      <th></th>\n",
       "      <th>Distance (km)</th>\n",
       "      <th>Average Speed (km/h)</th>\n",
       "      <th>Climb (m)</th>\n",
       "      <th>Average Heart Rate (bpm)</th>\n",
       "    </tr>\n",
       "    <tr>\n",
       "      <th>Date</th>\n",
       "      <th></th>\n",
       "      <th></th>\n",
       "      <th></th>\n",
       "      <th></th>\n",
       "    </tr>\n",
       "  </thead>\n",
       "  <tbody>\n",
       "    <tr>\n",
       "      <th>2015-12-31</th>\n",
       "      <td>13.602805</td>\n",
       "      <td>10.998902</td>\n",
       "      <td>160.170732</td>\n",
       "      <td>143.353659</td>\n",
       "    </tr>\n",
       "    <tr>\n",
       "      <th>2016-12-31</th>\n",
       "      <td>11.411667</td>\n",
       "      <td>10.837778</td>\n",
       "      <td>133.194444</td>\n",
       "      <td>143.388889</td>\n",
       "    </tr>\n",
       "    <tr>\n",
       "      <th>2017-12-31</th>\n",
       "      <td>12.935176</td>\n",
       "      <td>10.959059</td>\n",
       "      <td>169.376471</td>\n",
       "      <td>145.247059</td>\n",
       "    </tr>\n",
       "    <tr>\n",
       "      <th>2018-12-31</th>\n",
       "      <td>13.339063</td>\n",
       "      <td>10.777969</td>\n",
       "      <td>191.218750</td>\n",
       "      <td>148.125000</td>\n",
       "    </tr>\n",
       "  </tbody>\n",
       "</table>\n",
       "</div>"
      ],
      "text/plain": [
       "            Distance (km)  Average Speed (km/h)   Climb (m)  \\\n",
       "Date                                                          \n",
       "2015-12-31      13.602805             10.998902  160.170732   \n",
       "2016-12-31      11.411667             10.837778  133.194444   \n",
       "2017-12-31      12.935176             10.959059  169.376471   \n",
       "2018-12-31      13.339063             10.777969  191.218750   \n",
       "\n",
       "            Average Heart Rate (bpm)  \n",
       "Date                                  \n",
       "2015-12-31                143.353659  \n",
       "2016-12-31                143.388889  \n",
       "2017-12-31                145.247059  \n",
       "2018-12-31                148.125000  "
      ]
     },
     "metadata": {},
     "output_type": "display_data"
    },
    {
     "name": "stdout",
     "output_type": "stream",
     "text": [
      "Weekly averages of last 4 years:\n"
     ]
    },
    {
     "data": {
      "text/plain": [
       "Distance (km)                12.518176\n",
       "Average Speed (km/h)         10.835473\n",
       "Climb (m)                   158.325444\n",
       "Average Heart Rate (bpm)    144.801775\n",
       "dtype: float64"
      ]
     },
     "metadata": {},
     "output_type": "display_data"
    },
    {
     "name": "stdout",
     "output_type": "stream",
     "text": [
      "How many trainings per week I had on average: 1.5\n"
     ]
    }
   ],
   "source": [
    "# Prepare running data for the last 4 years\n",
    "runs_subset_2015_2018 = df_run['2018':'2015']\n",
    "\n",
    "# Calculate annual statistics\n",
    "print('How my average run looks in last 4 years:')\n",
    "display(runs_subset_2015_2018.resample('A').mean())\n",
    "\n",
    "# Calculate weekly statistics\n",
    "print('Weekly averages of last 4 years:')\n",
    "display(runs_subset_2015_2018.resample('W').mean().mean())\n",
    "\n",
    "# Mean weekly counts\n",
    "weekly_counts_average = runs_subset_2015_2018['Distance (km)'].resample('W').count().mean()\n",
    "print('How many trainings per week I had on average:', weekly_counts_average)"
   ]
  },
  {
   "cell_type": "markdown",
   "metadata": {
    "dc": {
     "key": "40"
    },
    "deletable": false,
    "editable": false,
    "run_control": {
     "frozen": true
    },
    "tags": [
     "context"
    ]
   },
   "source": [
    "## 6. Visualization with averages\n",
    "<p>Let's plot the long term averages of my distance run and my heart rate with their raw data to visually compare the averages to each training session. Again, we'll use the data from 2015 through 2018.</p>\n",
    "<p>In this task, we will use <code>matplotlib</code> functionality for plot creation and customization.</p>"
   ]
  },
  {
   "cell_type": "code",
   "execution_count": 62,
   "metadata": {
    "dc": {
     "key": "40"
    },
    "tags": [
     "sample_code"
    ]
   },
   "outputs": [
    {
     "ename": "KeyError",
     "evalue": "Ellipsis",
     "output_type": "error",
     "traceback": [
      "---------------------------------------------------------------------------",
      "KeyError                                  Traceback (most recent call last)",
      "/usr/local/lib/python3.6/dist-packages/pandas/core/indexes/base.py in get_loc(self, key, method, tolerance)\n   2601             try:\n-> 2602                 return self._engine.get_loc(key)\n   2603             except KeyError:\n",
      "pandas/_libs/index.pyx in pandas._libs.index.IndexEngine.get_loc()\n",
      "pandas/_libs/index.pyx in pandas._libs.index.IndexEngine.get_loc()\n",
      "pandas/_libs/hashtable_class_helper.pxi in pandas._libs.hashtable.PyObjectHashTable.get_item()\n",
      "pandas/_libs/hashtable_class_helper.pxi in pandas._libs.hashtable.PyObjectHashTable.get_item()\n",
      "KeyError: Ellipsis",
      "\nDuring handling of the above exception, another exception occurred:\n",
      "KeyError                                  Traceback (most recent call last)",
      "<ipython-input-62-de6cff2e1e3c> in <module>\n      1 # Prepare data\n      2 runs_subset_2015_2018 = df_run['2018':'2015']\n----> 3 runs_distance = runs_subset_2015_2018[...]\n      4 runs_hr = runs_subset_2015_2018[...]\n      5 \n",
      "/usr/local/lib/python3.6/dist-packages/pandas/core/frame.py in __getitem__(self, key)\n   2915             if self.columns.nlevels > 1:\n   2916                 return self._getitem_multilevel(key)\n-> 2917             indexer = self.columns.get_loc(key)\n   2918             if is_integer(indexer):\n   2919                 indexer = [indexer]\n",
      "/usr/local/lib/python3.6/dist-packages/pandas/core/indexes/base.py in get_loc(self, key, method, tolerance)\n   2602                 return self._engine.get_loc(key)\n   2603             except KeyError:\n-> 2604                 return self._engine.get_loc(self._maybe_cast_indexer(key))\n   2605         indexer = self.get_indexer([key], method=method, tolerance=tolerance)\n   2606         if indexer.ndim > 1 or indexer.size > 1:\n",
      "pandas/_libs/index.pyx in pandas._libs.index.IndexEngine.get_loc()\n",
      "pandas/_libs/index.pyx in pandas._libs.index.IndexEngine.get_loc()\n",
      "pandas/_libs/hashtable_class_helper.pxi in pandas._libs.hashtable.PyObjectHashTable.get_item()\n",
      "pandas/_libs/hashtable_class_helper.pxi in pandas._libs.hashtable.PyObjectHashTable.get_item()\n",
      "KeyError: Ellipsis"
     ]
    }
   ],
   "source": [
    "# Prepare data\n",
    "runs_subset_2015_2018 = df_run['2018':'2015']\n",
    "runs_distance = runs_subset_2015_2018['Distance (km)']\n",
    "runs_hr = runs_subset_2015_2018['Average Heart Rate (bpm)']\n",
    "\n",
    "# Create plot\n",
    "fig, (ax1, ax2) = plt.subplots(2, sharex=True, figsize=(12, 8))\n",
    "\n",
    "# Plot and customize first subplot\n",
    "runs_distance.plot(ax=ax1)\n",
    "ax1.set(ylabel='Distance (km)', title='Historical data with averages')\n",
    "ax1.axhline(runs_distance.mean(), color='blue', linewidth=1, linestyle='-.')\n",
    "\n",
    "# Plot and customize second subplot\n",
    "runs_hr.plot(ax=ax2, color='gray')\n",
    "ax2.set(xlabel='Date', ylabel='Average Heart Rate (bpm)')\n",
    "ax2.axhline(runs_hr.mean(), color='blue', linewidth=1, linestyle='-.')\n",
    "\n",
    "# Show plot\n",
    "plt.show()"
   ]
  },
  {
   "cell_type": "markdown",
   "metadata": {
    "dc": {
     "key": "47"
    },
    "deletable": false,
    "editable": false,
    "run_control": {
     "frozen": true
    },
    "tags": [
     "context"
    ]
   },
   "source": [
    "## 7. Did I reach my goals?\n",
    "<p>To motivate myself to run regularly, I set a target goal of running 1000 km per year. Let's visualize my annual running distance (km) from 2013 through 2018 to see if I reached my goal each year. Only stars in the green region indicate success.</p>"
   ]
  },
  {
   "cell_type": "code",
   "execution_count": null,
   "metadata": {
    "collapsed": true,
    "dc": {
     "key": "47"
    },
    "tags": [
     "sample_code"
    ]
   },
   "outputs": [],
   "source": [
    "# Prepare data\n",
    "df_run_dist_annual = df_run['2018':'2013']['Distance (km)'].resample('A').sum()\n",
    "\n",
    "# Create plot\n",
    "fig = plt.figure(figsize=(8, 5))\n",
    "\n",
    "# Plot and customize\n",
    "ax = df_run_dist_annual.plot(marker='*', markersize=14, linewidth=0, color='blue')\n",
    "ax.set(ylim=[0, 1210], \n",
    "       xlim=['2012','2019'],\n",
    "       ylabel='Distance (km)',\n",
    "       xlabel='Years',\n",
    "       title='Annual totals for distance')\n",
    "\n",
    "ax.axhspan(1000, 1210, color='green', alpha=0.4)\n",
    "ax.axhspan(800, 1000, color='yellow', alpha=0.3)\n",
    "ax.axhspan(0, 800, color='red', alpha=0.2)\n",
    "\n",
    "# Show plot\n",
    "plt.show()"
   ]
  },
  {
   "cell_type": "markdown",
   "metadata": {
    "dc": {
     "key": "54"
    },
    "deletable": false,
    "editable": false,
    "run_control": {
     "frozen": true
    },
    "tags": [
     "context"
    ]
   },
   "source": [
    "## 8. Am I progressing?\n",
    "<p>Let's dive a little deeper into the data to answer a tricky question: am I progressing in terms of my running skills? </p>\n",
    "<p>To answer this question, we'll decompose my weekly distance run and visually compare it to the raw data. A red trend line will represent the weekly distance run.</p>\n",
    "<p>We are going to use <code>statsmodels</code> library to decompose the weekly trend.</p>"
   ]
  },
  {
   "cell_type": "code",
   "execution_count": null,
   "metadata": {
    "collapsed": true,
    "dc": {
     "key": "54"
    },
    "tags": [
     "sample_code"
    ]
   },
   "outputs": [],
   "source": [
    "# Import required library\n",
    "import statsmodels.api as sm\n",
    "\n",
    "# Prepare data\n",
    "df_run_dist_wkly = df_run['2018':'2013']['Distance (km)'].resample('W').bfill()\n",
    "decomposed = sm.tsa.seasonal_decompose(df_run_dist_wkly, extrapolate_trend=1, freq=52)\n",
    "\n",
    "# Create plot\n",
    "fig = plt.figure(figsize=(12,5))\n",
    "\n",
    "# Plot and customize\n",
    "ax = decomposed.trend.plot(label='Trend', linewidth=2)\n",
    "ax = decomposed.observed.plot(label='Observed', linewidth=0.5)\n",
    "\n",
    "ax.legend()\n",
    "ax.set_title('Running distance trend')\n",
    "\n",
    "# Show plot\n",
    "plt.show()"
   ]
  },
  {
   "cell_type": "markdown",
   "metadata": {
    "dc": {
     "key": "61"
    },
    "deletable": false,
    "editable": false,
    "run_control": {
     "frozen": true
    },
    "tags": [
     "context"
    ]
   },
   "source": [
    "## 9. Training intensity\n",
    "<p>Heart rate is a popular metric used to measure training intensity. Depending on age and fitness level, heart rates are grouped into different zones that people can target depending on training goals. A target heart rate during moderate-intensity activities is about 50-70% of maximum heart rate, while during vigorous physical activity it’s about 70-85% of maximum.</p>\n",
    "<p>We'll create a distribution plot of my heart rate data by training intensity. It will be a visual presentation for the number of activities from predefined training zones. </p>"
   ]
  },
  {
   "cell_type": "code",
   "execution_count": null,
   "metadata": {
    "collapsed": true,
    "dc": {
     "key": "61"
    },
    "tags": [
     "sample_code"
    ]
   },
   "outputs": [],
   "source": [
    "# Prepare data\n",
    "hr_zones = [100, 125, 133, 142, 151, 173]\n",
    "zone_names = ['Easy', 'Moderate', 'Hard', 'Very hard', 'Maximal']\n",
    "zone_colors = ['green', 'yellow', 'orange', 'tomato', 'red']\n",
    "df_run_hr_all = df_run['2018':'2015-03']['Average Heart Rate (bpm)']\n",
    "\n",
    "# Create plot\n",
    "fig, ax = plt.subplots(figsize=(8,5))\n",
    "\n",
    "# Plot and customize\n",
    "n, bins, patches = ax.hist(df_run_hr_all, bins=hr_zones, alpha=0.5)\n",
    "for i in range(0, len(patches)):\n",
    "    patches[i].set_facecolor(zone_colors[i])\n",
    "\n",
    "ax.set(title='Distribution of HR', ylabel='Number of runs')\n",
    "ax.xaxis.set(ticks=hr_zones)\n",
    "ax.set_xticklabels(labels=zone_names, rotation=-30, ha='left')\n",
    "\n",
    "# Show plot\n",
    "plt.show()"
   ]
  },
  {
   "cell_type": "markdown",
   "metadata": {
    "dc": {
     "key": "68"
    },
    "deletable": false,
    "editable": false,
    "run_control": {
     "frozen": true
    },
    "tags": [
     "context"
    ]
   },
   "source": [
    "## 10. Detailed summary report\n",
    "<p>With all this data cleaning, analysis, and visualization, let's create detailed summary tables of my training. </p>\n",
    "<p>To do this, we'll create two tables. The first table will be a summary of the distance (km) and climb (m) variables for each training activity. The second table will list the summary statistics for the average speed (km/hr), climb (m), and distance (km) variables for each training activity.</p>"
   ]
  },
  {
   "cell_type": "code",
   "execution_count": null,
   "metadata": {
    "collapsed": true,
    "dc": {
     "key": "68"
    },
    "tags": [
     "sample_code"
    ]
   },
   "outputs": [],
   "source": [
    "# Concatenating three DataFrames\n",
    "df_run_walk_cycle = df_run.append(df_walk).append(df_cycle).sort_index(ascending=False)\n",
    "\n",
    "dist_climb_cols, speed_col = ['Distance (km)', 'Climb (m)'], ['Average Speed (km/h)']\n",
    "\n",
    "# Calculating total distance and climb in each type of activities\n",
    "df_totals = df_run_walk_cycle.groupby('Type')[dist_climb_cols].sum()\n",
    "\n",
    "print('Totals for different training types:')\n",
    "display(df_totals)\n",
    "\n",
    "# Calculating summary statistics for each type of activities \n",
    "df_summary = df_run_walk_cycle.groupby('Type')[dist_climb_cols + speed_col].describe()\n",
    "\n",
    "# Combine totals with summary\n",
    "for i in dist_climb_cols:\n",
    "    df_summary[i, 'total'] = df_totals[i]\n",
    "\n",
    "print('Summary statistics for different training types:')\n",
    "df_summary.stack()"
   ]
  },
  {
   "cell_type": "markdown",
   "metadata": {
    "dc": {
     "key": "75"
    },
    "deletable": false,
    "editable": false,
    "run_control": {
     "frozen": true
    },
    "tags": [
     "context"
    ]
   },
   "source": [
    "## 11. Fun facts\n",
    "<p>To wrap up, let’s pick some fun facts out of the summary tables and solve the last exercise.</p>\n",
    "<p>These data (my running history) represent 6 years, 2 months and 21 days. And I remember how many running shoes I went through–7.</p>\n",
    "<pre><code>FUN FACTS\n",
    "- Average distance: 11.38 km\n",
    "- Longest distance: 38.32 km\n",
    "- Highest climb: 982 m\n",
    "- Total climb: 57,278 m\n",
    "- Total number of km run: 5,224 km\n",
    "- Total runs: 459\n",
    "- Number of running shoes gone through: 7 pairs\n",
    "</code></pre>\n",
    "<p>The story of Forrest Gump is well known–the man, who for no particular reason decided to go for a \"little run.\" His epic run duration was 3 years, 2 months and 14 days (1169 days). In the picture you can see Forrest’s route of 24,700 km.  </p>\n",
    "<pre><code>FORREST RUN FACTS\n",
    "- Average distance: 21.13 km\n",
    "- Total number of km run: 24,700 km\n",
    "- Total runs: 1169\n",
    "- Number of running shoes gone through: ...\n",
    "</code></pre>\n",
    "<p>Assuming Forest and I go through running shoes at the same rate, figure out how many pairs of shoes Forrest needed for his run.</p>\n",
    "<p><img src=\"https://assets.datacamp.com/production/project_727/img/Forrest_Gump_running_route.png\" alt=\"Forrest's route\" title=\"Little run of Forrest Gump\"></p>"
   ]
  },
  {
   "cell_type": "code",
   "execution_count": null,
   "metadata": {
    "collapsed": true,
    "dc": {
     "key": "75"
    },
    "tags": [
     "sample_code"
    ]
   },
   "outputs": [],
   "source": [
    "# Count average shoes per lifetime (as km per pair) using our fun facts\n",
    "average_shoes_lifetime = 5224 / 7\n",
    "\n",
    "# Count number of shoes for Forrest's run distance\n",
    "shoes_for_forrest_run = 24700 // average_shoes_lifetime\n",
    "\n",
    "print('Forrest Gump would need {} pairs of shoes!'.format(shoes_for_forrest_run))"
   ]
  }
 ],
 "metadata": {
  "kernelspec": {
   "display_name": "Python 3",
   "language": "python",
   "name": "python3"
  },
  "language_info": {
   "codemirror_mode": {
    "name": "ipython",
    "version": 3
   },
   "file_extension": ".py",
   "mimetype": "text/x-python",
   "name": "python",
   "nbconvert_exporter": "python",
   "pygments_lexer": "ipython3",
   "version": "3.7.9"
  }
 },
 "nbformat": 4,
 "nbformat_minor": 2
}
